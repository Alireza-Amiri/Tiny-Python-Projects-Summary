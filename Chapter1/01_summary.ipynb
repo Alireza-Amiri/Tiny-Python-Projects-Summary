{
 "cells": [
  {
   "cell_type": "markdown",
   "metadata": {
    "pycharm": {
     "is_executing": true
    }
   },
   "source": [
    "<h2>Purpose</h2>\n",
    "<ul>\n",
    "<li>A Python program is plain text that lives in a file. You need the python3 pro- gram to interpret and execute the program file.</li>\n",
    "    \n",
    "<li>You can make a program executable and copy it to a location in your $PATH so that you can run it like any other program on your computer. Be sure to set the shebang to use env to find the correct python3.</li>\n",
    "\n",
    "<li>The argparse module will help you document and parse all the parameters to your program. You can validate the types and numbers of arguments, which can be positional, optional, or flags. The usage will be automatically generated.</li>\n",
    "    \n",
    "<li>We will use the pytest program to run the test.py programs for each exercise. The make test shortcut will execute pytest -xv test.py, or you can run this command directly.</li>\n",
    " \n",
    " <li>You should run your tests often to ensure that everything works.</li>\n",
    " \n",
    " <li>Code formatters like YAPF and Black will automatically format your code to community standards, making it easier to read and debug.</li>\n",
    "\n",
    "<li>Code linters like Pylint and Flake8 can help you correct both programmatic and stylistic problems.</li>\n",
    "\n",
    "</ul>\n",
    "\n"
   ]
  },
  {
   "cell_type": "markdown",
   "metadata": {},
   "source": [
    "<h2>Structure of chapters</h2>\n",
    "<ul>\n",
    "<li>We will use new.py to ....</li>\n",
    "<li>It is </li>\n",
    "</ul>\n",
    "\n",
    "\n",
    "## files hello.py\n",
    "\n",
    "## test.py\n",
    "\n",
    "## Makefile"
   ]
  },
  {
   "cell_type": "markdown",
   "metadata": {},
   "source": [
    "<h2>Chapter 1: How to write and test a Python program</h2>\n",
    "<ul>\n",
    "<li>Write a Python program to say “Hello, World!”</li>\n",
    "<li>Handle command-line arguments using <i><b>argparse</b></i>  </li>\n",
    "<li>Run tests for the code with Pytest</li>\n",
    "<li>Learn about <i><b>$PATH</b></i> </li>\n",
    "<li>Use tools like YAPF and Black to format the code</li>\n",
    "<li>Use tools like Flake8 and Pylint to find problems in\n",
    "the code</li>\n",
    "<li>Use the new.py program to create new programs</li>\n",
    "</ul>\n",
    "\n"
   ]
  },
  {
   "cell_type": "markdown",
   "metadata": {},
   "source": [
    "<h2>Purpose</h2>\n",
    "<ul>\n",
    "<li>Reviewing why Fully Connected Neural networks are not good choices when analying imaging data</li>\n",
    "<li>Understanding convolution and why convolutional neural networks are better choice when creating models for imaging data </li>\n",
    "<li>Creating a CNN</li>\n",
    "<li>Understanding the difference between the module and the functional APIs</li>\n",
    "<li>Designing a neural network</li>\n",
    "</ul>\n",
    "\n"
   ]
  },
  {
   "cell_type": "markdown",
   "metadata": {},
   "source": [
    "<h2>Prerequisite</h2>\n",
    "\n",
    "<ul>\n",
    "<li>Install VS Code or PyCharm</li>\n",
    "\n",
    "<li>test.py  and  hello.py  files should be in a same working directory.</li>\n",
    "</ul>\n",
    "\n",
    "the test.py program neede to  find it and we’ll use it to test the program.\n",
    "\n",
    "Run the program  with the command **python3 hello.py**\n",
    "\n",
    "this causes Python version 3 to execute the commands in the file named hello.py. You should see this:\n",
    "\n"
   ]
  },
  {
   "cell_type": "markdown",
   "metadata": {},
   "source": []
  },
  {
   "cell_type": "markdown",
   "metadata": {},
   "source": [
    "  ####  Testing your program\n",
    "The most fundamental idea here  is to learn how to test your programs. The file test.py program in the directory will be used to test the  new hello.py program.\n",
    "\n",
    "We will use pytest to execute all the commands and tell us how many tests we passed. \n",
    "\n",
    "#### pytest -v test.py\n",
    "\n",
    "the -v option,  tells pytest to create “verbose” output. If you run it  you should see the following output as the first several lines. After that will follow many more lines showing you more information about the tests that didn’t pass.\n",
    "\n",
    "\n"
   ]
  },
  {
   "cell_type": "markdown",
   "metadata": {},
   "source": []
  },
  {
   "cell_type": "code",
   "execution_count": 1,
   "metadata": {},
   "outputs": [],
   "source": [
    "\n",
    "\n",
    "#!/usr/bin/env python3  \n",
    "#1-\n",
    "#--> The shebang line tells the operating system to  use /usr/bin/env \n",
    "# ---->to find python3 to interpret this program.\n",
    "\n",
    "#2-\n",
    "#---> A comment line documenting the purpose of the program\n",
    "\"\"\"tests for hello.py\"\"\"\n",
    "#3-\n",
    "import os\n",
    "from subprocess import getstatusoutput, getoutput\n",
    "\n",
    "\n",
    "#4-\n",
    "prg = './hello.py'\n",
    "# here . dot means the current working directory\n",
    "#  and slash / means is how we seperate eah directory\n",
    "#  from each other\n",
    "\n",
    "\n",
    "# The first test always checks that the expected file exists. Here the test looks for hello.py.\n",
    "# --------------------------------------------------\n",
    "#5-\n",
    "def test_exists():\n",
    "    \"\"\"exists\"\"\"\n",
    "    #5.1-\n",
    "    assert os.path.isfile(prg)\n",
    "\n",
    "\n",
    "    # The second test tries to run the program with python3 hello.py and then checks if the program printed “Hello, World!” If you miss even one character, like forgetting a comma, the test will point out the error, so read carefully!\n",
    "\n",
    "# --------------------------------------------------\n",
    "#6-\n",
    "def test_runnable():\n",
    "    \"\"\"Runs using python3\"\"\"\n",
    "    #6.1-\n",
    "    out = getoutput(f'python3 {prg}')\n",
    "    #6.2-\n",
    "    assert out.strip() == 'Hello, World!'\n",
    "\n",
    "\n",
    "    # The third test checks that the program is “executable.” This test fails, so next we’ll talk about how to make that pass.\n",
    "# --------------------------------------------------\n",
    "#7-\n",
    "def test_executable():\n",
    "    #7.1-\n",
    "    \"\"\"Says 'Hello, World!' by default\"\"\"\n",
    "    #7.2-\n",
    "    out = getoutput(prg)\n",
    "    #7.3-\n",
    "    assert out.strip() == 'Hello, World!'\n",
    "\n",
    "\n",
    "    # The fourth test asks the program for help and doesn’t get anything. We’re going to add the ability to print a “usage” statement that describes how to use our program.\n",
    "\n",
    "# --------------------------------------------------\n",
    "#8-\n",
    "def test_usage():\n",
    "    #8.1-\n",
    "    \"\"\"usage\"\"\"\n",
    "    \n",
    "    #8.2-\n",
    "    for flag in ['-h', '--help']:\n",
    "        #8.3-\n",
    "        rv, out = getstatusoutput(f'{prg} {flag}')\n",
    "        #8.4-\n",
    "        assert rv == 0\n",
    "        #8.5-\n",
    "        assert out.lower().startswith('usage')\n",
    "\n",
    "\n",
    "        # The last test checks that the program can greet a name that we’ll pass as an argument. Since our program doesn’t yet accept arguments, we’ll need to add that, too.\n",
    "# --------------------------------------------------\n",
    "#9-\n",
    "def test_input():\n",
    "    #9.1-\n",
    "    \"\"\"test for input\"\"\"\n",
    "    \n",
    "    #9.2-\n",
    "    for val in ['Universe', 'Multiverse']:\n",
    "        #9.3-\n",
    "        for option in ['-n', '--name']:\n",
    "            #9.4-\n",
    "            rv, out = getstatusoutput(f'{prg} {option} {val}')\n",
    "            #9.5-\n",
    "            assert rv == 0\n",
    "            #9.6-\n",
    "            assert out.strip() == f'Hello, {val}!'\n"
   ]
  },
  {
   "cell_type": "markdown",
   "metadata": {},
   "source": [
    "### Testing hello.py"
   ]
  },
  {
   "cell_type": "markdown",
   "metadata": {},
   "source": [
    "We’ve made many changes to our program—are we sure it still works correctly? Let’s run our test again.\n",
    "This is something you will do literally hundreds of times, so I’ve created a short- cut you might like to use. In every directory, you’ll find a file called Makefile that looks like this:\n",
    "        $ cat Makefile\n",
    "        .PHONY: test\n",
    "        test:\n",
    "            pytest -xv test.py\n",
    "If you have the program make installed on your computer, you can run make test when you are in the 01_hello directory. The make program will look for a Makefile in your current working directory and then look for a recipe called “test.” There it will find that the command to run for the “test” target is pytest -xv test.py, so it will run that command for you.\n",
    "        $ make test\n",
    "        pytest -xv test.py\n",
    "        \n",
    "ollected 5 items\n",
    "test.py::test_exists PASSED\n",
    "test.py::test_runnable PASSED \n",
    "test.py::test_executable PASSED \n",
    "test.py::test_usage PASSED \n",
    "test.py::test_input PASSED\n",
    "\n",
    "\n",
    "\n",
    "If you do not have make installed, you might like to install it and learn about how Makefiles can be used to execute complicated sets of commands. If you do not want to install or use make, you can always run pytest -xv test.py yourself. They both accom- plish the same task.\n",
    "The important point is that we were able to use our tests to verify that our program still does exactly what it is supposed to do. As you write programs, you may want to try different solutions. Tests give you the freedom to rewrite a program (also called “refactoring your code”) and know that it still works.\n",
    " "
   ]
  },
  {
   "cell_type": "markdown",
   "metadata": {
    "collapsed": true
   },
   "source": [
    "## Provide some  explanation about the error:\n",
    "\n",
    "page 18"
   ]
  },
  {
   "cell_type": "code",
   "execution_count": null,
   "metadata": {},
   "outputs": [],
   "source": []
  },
  {
   "cell_type": "markdown",
   "metadata": {},
   "source": []
  },
  {
   "cell_type": "markdown",
   "metadata": {},
   "source": [
    "## Adding the #! (shebang) line\n",
    "\n",
    "It’s common to put a special comment line in programs like these to indicate which language needs to be used to execute the commands in the file.\n",
    "This\n",
    "\n",
    "This comment line starts off with #!,\n",
    "and the nickname for this is “shebang” (pro- nounced “shuh-bang”—I always think of the # as the “shuh” and the ! as the “bang!”). Just as with any other comment, Python will ignore the shebang, but the operating sys- tem (like macOS or Windows) will use it to decide which program to use to run the rest of the file.\n",
    "Here is the shebang you should add:\n",
    "#!/usr/bin/env python3"
   ]
  },
  {
   "cell_type": "markdown",
   "metadata": {},
   "source": []
  },
  {
   "cell_type": "markdown",
   "metadata": {},
   "source": [
    "## Some helpfull commend line\n",
    "\n",
    "You can use the which command to see which python3 it finds:\n",
    "$ which python3 /Library/Frameworks/Python.framework/Versions/3.8/bin/python3\n",
    "\n",
    "You can use the env command to find and run programs. If you run env python3, it will run a python3 program if it can find one. Here’s what I see on my computer:\n",
    "\n",
    "\n",
    "my program would not work on another computer that has python3 installed in a dif- ferent location. I doubt it would work on your computer, either. This is why you should always use the env program to find the python3 that is specific to the machine on which it’s running.\n",
    "\n"
   ]
  },
  {
   "cell_type": "markdown",
   "metadata": {},
   "source": []
  },
  {
   "cell_type": "markdown",
   "metadata": {},
   "source": [
    "Making a program executable\n",
    "\n",
    "So far we’ve been explicitly telling python3 to run our pro- gram, but since we added the shebang, we can execute the program directly and let the OS figure out that it should use python3. The advantage of this is that we could copy our pro- gram to a directory where other programs live and execute it from anywhere on our computer.\n",
    "The first step in doing this is to make our program “execut- able” using the command chmod (change mode). Think of it as turning your program “on.” Run this command to make hello.py executable:\n",
    "\n",
    "chmod +x hello.py\n",
    "\n",
    "The +x will add an “executable” attribute to the file.\n",
    "\n",
    "\n",
    "Now you can run the program like so:\n",
    "$ ./hello.py\n",
    "\n",
    "The ./ is the current directory, and it’s necessary to run a program when you are in the same directory as the program.\n"
   ]
  },
  {
   "cell_type": "markdown",
   "metadata": {},
   "source": []
  },
  {
   "cell_type": "markdown",
   "metadata": {},
   "source": [
    "Understanding $PATH\n",
    "\n",
    "ne of the biggest reasons to set the shebang line and make your program executable is so that you can install your Python programs just like other commands and pro- grams. We used the which command earlier to find the location of python3 on the Repl.it instance:\n",
    "$ which python3 /home/runner/.local/share/virtualenvs/python3/bin/python3"
   ]
  },
  {
   "cell_type": "markdown",
   "metadata": {},
   "source": [
    "How was the env program able to find it? Windows, macOS, and Linux all have a $PATH variable, which is a list of directories the OS will look in to find a program. For instance, here is the $PATH for my Repl.it instance:\n",
    "> echo $PATH /home/runner/.local/share/virtualenvs/python3/bin:/usr/local/bin:\\ /usr/local/sbin:/usr/local/bin:/usr/sbin:/usr/bin:/sbin:/bin\n"
   ]
  },
  {
   "cell_type": "markdown",
   "metadata": {},
   "source": []
  },
  {
   "cell_type": "markdown",
   "metadata": {},
   "source": [
    "\n",
    "<p><span style='color:green;'>Alternative solution:</span> Using <span style='color:red;'>convolution</span>, which is a different linear operation.</p>\n",
    "\n",
    "## files hello.py\n",
    "\n",
    "## test.py\n",
    "\n",
    "## Makefile\n"
   ]
  },
  {
   "cell_type": "code",
   "execution_count": null,
   "metadata": {},
   "outputs": [],
   "source": []
  },
  {
   "cell_type": "code",
   "execution_count": null,
   "metadata": {},
   "outputs": [],
   "source": []
  },
  {
   "cell_type": "markdown",
   "metadata": {},
   "source": []
  },
  {
   "cell_type": "markdown",
   "metadata": {},
   "source": [
    "<h3>More to read:</h3>\n",
    "    <a>https://discuss.pytorch.org/t/torch-tanh-vs-torch-nn-functional-tanh/15897</a>\n",
    "    "
   ]
  },
  {
   "cell_type": "code",
   "execution_count": null,
   "metadata": {
    "pycharm": {
     "is_executing": true
    }
   },
   "outputs": [],
   "source": []
  },
  {
   "cell_type": "code",
   "execution_count": null,
   "metadata": {
    "pycharm": {
     "is_executing": true
    }
   },
   "outputs": [],
   "source": []
  }
 ],
 "metadata": {
  "kernelspec": {
   "display_name": "Python 3 (ipykernel)",
   "language": "python",
   "name": "python3"
  },
  "language_info": {
   "codemirror_mode": {
    "name": "ipython",
    "version": 3
   },
   "file_extension": ".py",
   "mimetype": "text/x-python",
   "name": "python",
   "nbconvert_exporter": "python",
   "pygments_lexer": "ipython3",
   "version": "3.8.8"
  }
 },
 "nbformat": 4,
 "nbformat_minor": 1
}

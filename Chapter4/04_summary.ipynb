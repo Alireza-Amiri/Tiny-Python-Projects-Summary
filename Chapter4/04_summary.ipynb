{
 "cells": [
  {
   "attachments": {},
   "cell_type": "markdown",
   "metadata": {},
   "source": [
    "<h3> Struture of chapters </h3>\n",
    "<ul><li> We will use new.py to make a jump file </li>\n",
    "<li> It is a good practie to think about the test cases before jumping in coding </li>\n",
    "<li> Use make file in order to organize commmands that needs to run sequentially, or commands that take a lot og arguments </li>\n",
    "<li> Each chpater has main file, test, make file </li>\n",
    "</ul> "
   ]
  },
  {
   "attachments": {},
   "cell_type": "markdown",
   "metadata": {},
   "source": [
    "<h3> Chapter 4: Working with Dictionaries </h3>\n",
    "<ul> <li>  Create a dictionary </li>\n",
    "<li> Use a for loop and a list comprehension to process text, character by character </li>\n",
    "<li> Check if items exist in a dictionary </li>\n",
    "<li> Retrieve values from a dictionary </li>\n",
    "<li> Print a new string with the numbers substituted with their encoded values </li>\n",
    "</ul>"
   ]
  },
  {
   "cell_type": "markdown",
   "metadata": {},
   "source": []
  },
  {
   "attachments": {},
   "cell_type": "markdown",
   "metadata": {},
   "source": [
    "Dictionaries are an important part of python. They are similar to hash tables that are made up of keys and values. Like exact dictionary of word which has word and definition of work, python dictionaries can have key and multiple definitions for that key. Key are unique. Dictionaires are also important in data engineering and data cleaning. We can use them to map keys to specific tables. "
   ]
  },
  {
   "attachments": {},
   "cell_type": "markdown",
   "metadata": {},
   "source": [
    "<p> Dictionaries are an important type in python </p> \n",
    "<ul> <li> There is an optional second argument you can pass to dict.get(),\n",
    "which is the value to return if the key does not exist. </li>\n",
    "<li> We can iterate through dictionaries using dict.items() and we can access key,values of dicts.</li>\n",
    "</li> In ditinaires,items are defined as (key,value) compared to lists where item is only one. </li>\n",
    "</ul>\n"
   ]
  },
  {
   "attachments": {},
   "cell_type": "markdown",
   "metadata": {},
   "source": [
    "<span style='background-color:#FFFF00;'> The purpose of program </span> is to iterate through the input text, \n",
    "for each character,\n",
    "if charater is in dictionary, replace that character with value that is in dictionary, \n",
    "otherwise leave it there as it is. "
   ]
  },
  {
   "attachments": {},
   "cell_type": "markdown",
   "metadata": {},
   "source": [
    "<span style='background-color:#FFFF00;'> Solution </span> \n",
    "<ul>\n",
    "<li> Get text argument from user </li>\n",
    "<li> create dictionay of numbers with keys as input char,values as what we expect </li>\n",
    "<li> Use loop to iterate through chars of input text </li>\n",
    "<li> Use dict.get() to replace characcter with either value or default char<li>\n",
    "<li> concatenate them to initialized string at each iteration </li>\n",
    "</ul>"
   ]
  },
  {
   "attachments": {},
   "cell_type": "markdown",
   "metadata": {},
   "source": [
    "If we would have used str.replace method, in order to iterate through dicctionary and extrat matching characters, we would have had duplicated output. so iterating through dictionary is no0t reommended. Instead we should iterate through input string."
   ]
  }
 ],
 "metadata": {
  "kernelspec": {
   "display_name": "Python 3",
   "language": "python",
   "name": "python3"
  },
  "language_info": {
   "codemirror_mode": {
    "name": "ipython",
    "version": 3
   },
   "file_extension": ".py",
   "mimetype": "text/x-python",
   "name": "python",
   "nbconvert_exporter": "python",
   "pygments_lexer": "ipython3",
   "version": "3.7.3"
  },
  "orig_nbformat": 4,
  "vscode": {
   "interpreter": {
    "hash": "31f2aee4e71d21fbe5cf8b01ff0e069b9275f58929596ceb00d14d90e3e16cd6"
   }
  }
 },
 "nbformat": 4,
 "nbformat_minor": 2
}

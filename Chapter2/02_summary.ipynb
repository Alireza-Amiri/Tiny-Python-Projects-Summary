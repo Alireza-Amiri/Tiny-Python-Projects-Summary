{
 "cells": [
  {
   "cell_type": "markdown",
   "metadata": {},
   "source": [
    "<h3> Struture of chapters </h3>\n",
    "<ul><li> We will use new.py to make a crowsnest file </li>\n",
    "<li> It is a good practie to think about the test cases before jumping in coding </li>\n",
    "<li> Use make file in order to organize commmands that needs to run sequentially, or commands that take a lot og arguments </li>\n",
    "<li> Each chpater has main file,test,make file </li>\n",
    "</ul> "
   ]
  },
  {
   "attachments": {},
   "cell_type": "markdown",
   "metadata": {},
   "source": [
    "<h3> Chapter 2: Working with Strings </h3>\n",
    "<ul> <li> Create a program that accepts a positional argument and produces usage\n",
    "documentation </li>\n",
    "<li> Create a new output string depending on the inputs to the program </li>\n",
    "<li> Run a test suiteCreate a program that accepts a positional argument and produces usage\n",
    "documentation </li>\n",
    "</ul>"
   ]
  },
  {
   "attachments": {},
   "cell_type": "markdown",
   "metadata": {},
   "source": [
    "\n",
    "<ul> <li>  Positional arguments are defined by their positions and\n",
    "do not have names that start with dashes. You can delete all the arguments except for\n",
    "the positional word.</li> \n",
    "<li> This chapter works with f-string. F-string is a literal string, prefixed with f , which contains expressions inside curely braces {}. </li>\n",
    "<li> Use REPL to Read-\n",
    "Evaluate-Print-Loop in Python to read each line of input, evaluate it, and print the\n",
    "results in a loop. Use REPL to debug coode.</li>\n",
    "<li> \"+\" can be used to join strings together. </li>\n",
    "<li> Indexing in python starts at \"0\" . </li>"
   ]
  },
  {
   "cell_type": "markdown",
   "metadata": {},
   "source": []
  },
  {
   "attachments": {},
   "cell_type": "markdown",
   "metadata": {},
   "source": [
    "<p> <span style='background-color:#FFFF00;'> Help </span> is really important in python </p>\n",
    "Inside the help, you move up and down in the text using the up and\n",
    "down cursor arrows on your keyboard. You can also press the spacebar\n",
    "or the letter F (or sometimes Ctrl-F) to jump forward to the next\n",
    "page, and the letter B (or sometimes Ctrl-B) to jump backward. You can search\n",
    "through the documentation by pressing / and then the text you want to find. If you\n",
    "press N (for “next”) after a search, you will jump to the next place that string is found.\n",
    "To leave the help, press Q (for “quit”)."
   ]
  },
  {
   "attachments": {},
   "cell_type": "markdown",
   "metadata": {},
   "source": [
    "<p> Strings are an important type in python </p> \n",
    "<ul> <li> when we want to exeute a funtion parenthess, (), are needed. </li>\n",
    "<li> Charaters are type of String.</li>\n",
    "<li> Be careful to always use <span style='background-color:#FFFF00;'> one equal sign (=)</span>  when assigning a value to a\n",
    "variable, like word = 'narwhal' and <span style='background-color:#FFFF00;'> two equal signs (==)  </span> when you compare two values </li>\n",
    "<li> Strings have methods like str.upper() and str.isupper() that you can call to alter them or get information </li>\n",
    "<li> It is a good pratice to always think about default value when you are defining any variables to use </li>\n"
   ]
  },
  {
   "attachments": {},
   "cell_type": "markdown",
   "metadata": {},
   "source": [
    "Statements like if/else do not return a value, whereas expressions like x if y\n",
    "else z do return a value. "
   ]
  },
  {
   "attachments": {},
   "cell_type": "markdown",
   "metadata": {},
   "source": [
    "Try writing the test first, and then make your program pass\n",
    "the test. That is test-driven development!"
   ]
  },
  {
   "attachments": {},
   "cell_type": "markdown",
   "metadata": {},
   "source": [
    "<span style='background-color:#FFFF00;'> The purpose of program </span> is to accept a single positional argument\n",
    "and then print the given argument inside the “Ahoy” bit, along with the word “a”\n",
    "or “an” depending on whether the argument starts with a consonant or a vowel."
   ]
  },
  {
   "attachments": {},
   "cell_type": "markdown",
   "metadata": {},
   "source": [
    "<span style='background-color:#FFFF00;'> Solution </span> \n",
    "<ul>\n",
    "<li> Get text argument from user </li>\n",
    "<li> create article as if first char of text in lower case, starts with (aioue) as an, otherwise a </li>\n",
    "<li> print(f'Ahoy, Captain, {article} {word} off the larboard bow!') </li>\n",
    "</ul>"
   ]
  }
 ],
 "metadata": {
  "kernelspec": {
   "display_name": "Python 3",
   "language": "python",
   "name": "python3"
  },
  "language_info": {
   "codemirror_mode": {
    "name": "ipython",
    "version": 3
   },
   "file_extension": ".py",
   "mimetype": "text/x-python",
   "name": "python",
   "nbconvert_exporter": "python",
   "pygments_lexer": "ipython3",
   "version": "3.7.3"
  },
  "orig_nbformat": 4,
  "vscode": {
   "interpreter": {
    "hash": "31f2aee4e71d21fbe5cf8b01ff0e069b9275f58929596ceb00d14d90e3e16cd6"
   }
  }
 },
 "nbformat": 4,
 "nbformat_minor": 2
}
